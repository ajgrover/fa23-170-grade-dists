{
 "cells": [
  {
   "cell_type": "code",
   "execution_count": 11,
   "metadata": {},
   "outputs": [],
   "source": [
    "import numpy as np\n",
    "import scipy.stats as stats\n",
    "import matplotlib.pyplot as plt\n",
    "from tqdm import tqdm\n",
    "import random"
   ]
  },
  {
   "cell_type": "code",
   "execution_count": 12,
   "metadata": {},
   "outputs": [
    {
     "name": "stdout",
     "output_type": "stream",
     "text": [
      "right skewed distribution\n",
      "----------------------------------\n",
      "mean: 55.71327903581559, median: 54.83, sd: 18.88926272829497\n",
      "percentile: 100.0\n",
      "z-score: inf (a normal percentile of 100.0)\n"
     ]
    }
   ],
   "source": [
    "#MT 1 Dist (right skew), should take <30 seconds\n",
    "\n",
    "MY_MT1_SCORE = np.inf\n",
    "\n",
    "data = [0]\n",
    "def rando_generator(n, low, range): \n",
    "    return np.random.rand(n) * range + low\n",
    "\n",
    "while (abs(np.mean(data) - 55.71) > .01 or abs(np.median(data) - 54.83) > 0 or abs(np.std(data) - 18.89) > .01):\n",
    "    data = []\n",
    "    data.extend([109.5]) #max\n",
    "    data.extend(rando_generator(7, 100, 9.5))\n",
    "    data.extend(rando_generator(24, 90, 10))\n",
    "    data.extend(rando_generator(41, 80, 10))\n",
    "    data.extend(rando_generator(87, 70, 10))\n",
    "    data.extend(rando_generator(117, 60, 10))\n",
    "    data.extend(rando_generator(70, 54.83, 5.17))\n",
    "    data.extend([54.83]) #median\n",
    "    data.extend(rando_generator(61, 50, 4.83))\n",
    "    data.extend(rando_generator(135, 40, 10))\n",
    "    data.extend(rando_generator(95, 30, 10))\n",
    "    data.extend(rando_generator(46, 20, 10))\n",
    "    data.extend(rando_generator(9, 10, 10))\n",
    "    data.extend([10]) #min\n",
    "    mt1_data = data\n",
    "\n",
    "z_score = (MY_MT1_SCORE - np.mean(mt1_data))/np.std(mt1_data)\n",
    "mt1_percentile = stats.percentileofscore(mt1_data, MY_MT1_SCORE)\n",
    "print(\"right skewed distribution\")\n",
    "print(\"----------------------------------\")\n",
    "print(f\"mean: {np.mean(mt1_data)}, median: {np.median(mt1_data)}, sd: {np.std(mt1_data)}\")\n",
    "print(f\"percentile: {mt1_percentile}\")\n",
    "print(f\"z-score: {z_score} (a normal percentile of {100 * stats.norm.cdf(z_score)})\")"
   ]
  },
  {
   "cell_type": "code",
   "execution_count": 13,
   "metadata": {},
   "outputs": [
    {
     "name": "stderr",
     "output_type": "stream",
     "text": [
      "100%|██████████| 100000/100000 [00:51<00:00, 1923.53it/s]"
     ]
    },
    {
     "name": "stdout",
     "output_type": "stream",
     "text": [
      "left skewed distribution\n",
      "----------------------------------\n",
      "mean: 59.475827799357866, median: 61.5, sd: 20.59936133855729\n",
      "percentile: 100.0\n",
      "z-score: inf (a normal percentile of 100.0)\n"
     ]
    },
    {
     "name": "stderr",
     "output_type": "stream",
     "text": [
      "\n"
     ]
    }
   ],
   "source": [
    "#MT 2 Dist (left skew), should take <60 seconds\n",
    "\n",
    "MY_MT2_SCORE = np.inf\n",
    "\n",
    "def rando_generator(n, low, range): \n",
    "    return np.random.rand(n) * range + low\n",
    "\n",
    "epsilon = 999\n",
    "for _ in tqdm(range(100_000)):\n",
    "    data = []\n",
    "    data.extend([100]) #max\n",
    "    data.extend(rando_generator(39, 90, 10))\n",
    "    data.extend(rando_generator(70, 80, 10))\n",
    "    data.extend(rando_generator(111, 70, 10))\n",
    "    data.extend(rando_generator(104, 61.5, 8.5))\n",
    "    data.extend([61.5]) #median\n",
    "    data.extend([61.5]) #median\n",
    "    data.extend(rando_generator(23, 60, 1.5))\n",
    "    data.extend(rando_generator(89, 50, 10))\n",
    "    data.extend(rando_generator(99, 40, 10))\n",
    "    data.extend(rando_generator(61, 30, 10))\n",
    "    data.extend(rando_generator(33, 20, 10))\n",
    "    data.extend(rando_generator(19, 10, 10))\n",
    "    data.extend([7.5]) #min\n",
    "\n",
    "    dist = abs(np.mean(data) - 59.01) + abs(np.median(data) - 61.5) + abs(np.std(data) - 21.83)\n",
    "    if dist < epsilon:\n",
    "        epsilon = dist\n",
    "        mt2_data = data\n",
    "\n",
    "z_score = (MY_MT2_SCORE - np.mean(mt2_data))/np.std(mt2_data)\n",
    "mt2_percentile = stats.percentileofscore(mt2_data, MY_MT2_SCORE)\n",
    "print(\"left skewed distribution\")\n",
    "print(\"----------------------------------\")\n",
    "print(f\"mean: {np.mean(mt2_data)}, median: {np.median(mt2_data)}, sd: {np.std(mt2_data)}\")\n",
    "print(f\"percentile: {mt2_percentile}\")\n",
    "print(f\"z-score: {z_score} (a normal percentile of {100 * stats.norm.cdf(z_score)})\")"
   ]
  },
  {
   "cell_type": "code",
   "execution_count": 14,
   "metadata": {},
   "outputs": [
    {
     "name": "stderr",
     "output_type": "stream",
     "text": [
      "100%|██████████| 100000/100000 [00:59<00:00, 1691.03it/s]"
     ]
    },
    {
     "name": "stdout",
     "output_type": "stream",
     "text": [
      "slightly right skewed distribution\n",
      "----------------------------------\n",
      "mean: 81.28290017583964, median: 80.5, sd: 30.868738902297572\n",
      "percentile: 100.0\n",
      "z-score: inf (a normal percentile of 100.0)\n"
     ]
    },
    {
     "name": "stderr",
     "output_type": "stream",
     "text": [
      "\n"
     ]
    }
   ],
   "source": [
    "#Final Dist (slight right skew), should take <120 seconds\n",
    "\n",
    "MY_FINAL_SCORE = np.inf\n",
    "\n",
    "def rando_generator(n, low, range): \n",
    "    return np.random.rand(n) * range + low\n",
    "\n",
    "epsilon = 999\n",
    "for _ in tqdm(range(100_000)):\n",
    "    data = []\n",
    "    data.extend([170]) #max\n",
    "    data.extend(rando_generator(6, 157, 22))\n",
    "    data.extend(rando_generator(26, 135, 23))\n",
    "    data.extend(rando_generator(73, 112, 22))\n",
    "    data.extend(rando_generator(152, 90, 23))\n",
    "    data.extend(rando_generator(74, 80.5, 9.5))\n",
    "    data.extend([80.5]) #median\n",
    "    data.extend(rando_generator(103, 67, 13.5))\n",
    "    data.extend(rando_generator(151, 45, 23))\n",
    "    data.extend(rando_generator(67, 22, 22))\n",
    "    data.extend(rando_generator(10, 12, 22))\n",
    "    data.extend([12]) #min\n",
    "\n",
    "    dist = abs(np.mean(data) - 81.27) + abs(np.median(data) - 80.5) + abs(np.std(data) - 30.01)\n",
    "    if dist < epsilon:\n",
    "        epsilon = dist\n",
    "        final_data = data\n",
    "\n",
    "z_score = (MY_FINAL_SCORE - np.mean(final_data))/np.std(final_data)\n",
    "final_percentile = stats.percentileofscore(final_data, MY_FINAL_SCORE)\n",
    "print(\"slightly right skewed distribution\")\n",
    "print(\"----------------------------------\")\n",
    "print(f\"mean: {np.mean(final_data)}, median: {np.median(final_data)}, sd: {np.std(final_data)}\")\n",
    "print(f\"percentile: {final_percentile}\")\n",
    "print(f\"z-score: {z_score} (a normal percentile of {100 * stats.norm.cdf(z_score)})\")"
   ]
  },
  {
   "cell_type": "code",
   "execution_count": 22,
   "metadata": {},
   "outputs": [
    {
     "name": "stdout",
     "output_type": "stream",
     "text": [
      "A+: 0.7251993743529658\n",
      "A: 0.5458282817006602\n",
      "A-: 0.4472680129722775\n",
      "B+: 0.37852066377683097\n",
      "B: 0.3214345154131676\n",
      "B-: 0.2502729127357137\n"
     ]
    },
    {
     "data": {
      "image/png": "[encoded data removed]",
      "text/plain": [
       "<Figure size 640x480 with 1 Axes>"
      ]
     },
     "metadata": {},
     "output_type": "display_data"
    }
   ],
   "source": [
    "MIN_SIZE = 652\n",
    "\n",
    "some_mt1_data = np.random.choice(mt1_data, MIN_SIZE, replace=False)\n",
    "some_final_data = np.random.choice(final_data, MIN_SIZE, replace=False)\n",
    "\n",
    "sorted_mt1_data = sorted(some_mt1_data)\n",
    "sorted_mt2_data = sorted(mt2_data)\n",
    "sorted_final_data = sorted(some_final_data)\n",
    "\n",
    "d = 5\n",
    "shuffled_mt2_data = [x for i, x in sorted(enumerate(sorted_mt2_data), key=lambda item: item[0] + (d + 1) * random.random())]\n",
    "shuffled_final_data = [x for i, x in sorted(enumerate(sorted_final_data), key=lambda item: item[0] + (d + 1) * random.random())]\n",
    "\n",
    "grade_dist = list(0.25*np.array(sorted_mt1_data)/110 + 0.25*np.array(shuffled_mt2_data)/100 + 0.35*np.array(shuffled_final_data)/179 + np.full(shape=MIN_SIZE, fill_value=0.15, dtype=int))\n",
    "\n",
    "plt.hist(grade_dist)\n",
    "print(f\"A+: {np.percentile(grade_dist, 97)}\")\n",
    "print(f\"A: {np.percentile(grade_dist, 75)}\")\n",
    "print(f\"A-: {np.percentile(grade_dist, 53)}\")\n",
    "print(f\"B+: {np.percentile(grade_dist, 37)}\")\n",
    "print(f\"B: {np.percentile(grade_dist, 25)}\")\n",
    "print(f\"B-: {np.percentile(grade_dist, 12)}\")\n"
   ]
  }
 ],
 "metadata": {
  "kernelspec": {
   "display_name": "Python 3",
   "language": "python",
   "name": "python3"
  },
  "language_info": {
   "codemirror_mode": {
    "name": "ipython",
    "version": 3
   },
   "file_extension": ".py",
   "mimetype": "text/x-python",
   "name": "python",
   "nbconvert_exporter": "python",
   "pygments_lexer": "ipython3",
   "version": "3.9.5"
  }
 },
 "nbformat": 4,
 "nbformat_minor": 2
}
